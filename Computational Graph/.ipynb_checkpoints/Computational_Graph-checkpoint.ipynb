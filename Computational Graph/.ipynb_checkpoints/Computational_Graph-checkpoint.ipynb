{
 "cells": [
  {
   "cell_type": "markdown",
   "metadata": {},
   "source": [
    "# Computational Graphs\n",
    "\n",
    "Computational Graph is interesting concept as form of it, is used in Neural Networks. Computational Graph consists of connected nodes where node can be:\n",
    "\n",
    "   1) __Operation__: Oparation feeds output to other operations.<br>\n",
    "   2) __Variable__: Variable feeds input value to operations.<br>\n",
    "   3) __Placeholder__: Placeholder is special variable where value is inserted during run.<br>\n",
    "\n",
    "\n",
    "Output of the operation is called \"tensor\". Tensor can be array(single or multi-dimentional), matrices or higher-dimentional tensors themselves."
   ]
  },
  {
   "cell_type": "markdown",
   "metadata": {},
   "source": [
    "Here is example of computational graph from http://colah.github.io/. \n",
    "\n",
    "<img src=\"tree-def.png\" style=\"height:200px\">"
   ]
  },
  {
   "cell_type": "code",
   "execution_count": 1,
   "metadata": {},
   "outputs": [],
   "source": [
    "%reload_ext autoreload\n",
    "%autoreload 2"
   ]
  },
  {
   "cell_type": "code",
   "execution_count": 2,
   "metadata": {},
   "outputs": [],
   "source": [
    "import numpy as np"
   ]
  },
  {
   "cell_type": "markdown",
   "metadata": {},
   "source": [
    "Let's Define Class for Graph with operations, variables and placeholders."
   ]
  },
  {
   "cell_type": "code",
   "execution_count": 3,
   "metadata": {},
   "outputs": [],
   "source": [
    "class Graph():\n",
    "    def __init__(self):\n",
    "        self.operations = []\n",
    "        self.variables = []\n",
    "        self.placeholders = []\n",
    "\n",
    "    def defualt(self):\n",
    "        global _default_graph\n",
    "        _default_graph = self"
   ]
  },
  {
   "cell_type": "markdown",
   "metadata": {},
   "source": [
    "# Placeholder\n",
    "\n",
    "These are used to provide runtime input values.<br>\n",
    "The class also contains the consumers for the placeholder.<br>"
   ]
  },
  {
   "cell_type": "code",
   "execution_count": 4,
   "metadata": {},
   "outputs": [],
   "source": [
    "class Placeholder():\n",
    "    def __init__(self):\n",
    "        self.consumers = []\n",
    "        _default_graph.placeholders.append(self)"
   ]
  },
  {
   "cell_type": "markdown",
   "metadata": {},
   "source": [
    "# Variables\n",
    "\n",
    "These are the inputs used by operations<br>\n",
    "The class also contains the consumers for variables <br>"
   ]
  },
  {
   "cell_type": "code",
   "execution_count": 5,
   "metadata": {},
   "outputs": [],
   "source": [
    "class Variable():\n",
    "    def __init__(self, initial_value=None):\n",
    "        self.value = initial_value\n",
    "        self.consumers = []\n",
    "        _default_graph.variables.append(self)"
   ]
  },
  {
   "cell_type": "markdown",
   "metadata": {},
   "source": [
    "# Operation\n",
    "\n",
    "Operation has following elements:\n",
    "\n",
    "   1. __Compute__ : The operation\n",
    "   2. __Input Nodes__: The variables of other operations to be used as input for compute.\n",
    "   3. __Consumers__: The nodes which will consume the output of the operation"
   ]
  },
  {
   "cell_type": "code",
   "execution_count": 6,
   "metadata": {},
   "outputs": [],
   "source": [
    "class Operation():\n",
    "    def __init__(self, input_nodes = []):\n",
    "        self.input_nodes = input_nodes\n",
    "        self.consumers = []\n",
    "        for input_node in input_nodes:\n",
    "            input_node.consumers.append(self)\n",
    "    \n",
    "        _default_graph.operations.append(self)\n",
    "\n",
    "    def compute(self):\n",
    "        pass"
   ]
  },
  {
   "cell_type": "markdown",
   "metadata": {},
   "source": [
    "# Elementary Operations - Addition and Matrix Multiplication"
   ]
  },
  {
   "cell_type": "code",
   "execution_count": 7,
   "metadata": {},
   "outputs": [],
   "source": [
    "class Add(Operation):\n",
    "    def __init__(self, x, y):\n",
    "        super().__init__([x, y])\n",
    "\n",
    "    def compute(self, x1 , y1):\n",
    "        self.inputs=[x1, y1]\n",
    "        return x1 + y1"
   ]
  },
  {
   "cell_type": "code",
   "execution_count": 8,
   "metadata": {},
   "outputs": [],
   "source": [
    "class MatMul(Operation):\n",
    "    def __init__(self, x, y):\n",
    "        super().__init__([x, y])\n",
    "\n",
    "    def compute(self, x1, y1):\n",
    "        self.inputs = [x1, y1]\n",
    "        return x1.dot(y1)"
   ]
  },
  {
   "cell_type": "markdown",
   "metadata": {},
   "source": [
    "# Session Run To Compute Output\n",
    "\n",
    "We'll now create session class which will encapsulate the execution of compute graph<br>\n",
    "Run function of Session class will be called to compute<br>\n",
    "The input to the run function will be operation to be performed ( e in the above graph) and dictionary containing values for placeholders <br>\n",
    "<br>\n",
    "<br>\n",
    "<br>\n",
    "The operation needs to be calculated in correct order.<br>\n",
    "We'll use postorder traversal to get correct sequence of operations.<br>\n",
    "We need to make sure the value of each input for operation O needs to be computed before computing operation O<br>"
   ]
  },
  {
   "cell_type": "code",
   "execution_count": 14,
   "metadata": {},
   "outputs": [],
   "source": [
    "class Session:\n",
    "    def run(self, operation, feed_dict = {}):\n",
    "        nodes_po = traverse_po(operation)\n",
    "        for node in nodes_po:\n",
    "            if type(node) == Placeholder:\n",
    "                node.output = feed_dict[node]\n",
    "            elif type(node) == Variable:\n",
    "                node.output = node.value\n",
    "            else: \n",
    "                node.inputs = [input_node.output for input_node in node.input_nodes]\n",
    "                node.output = node.compute(*node.inputs)\n",
    "                \n",
    "            if type(node.output) == list:\n",
    "                node.output = np.array(node.output)\n",
    "        return operation.output\n",
    "\n",
    "\n",
    "def traverse_po(operation):\n",
    "    nodes_po = []\n",
    "    recurse(operation, nodes_po)\n",
    "    return nodes_po\n",
    "\n",
    "def recurse(node, nodes_po):\n",
    "    if isinstance(node, Operation):\n",
    "        for input_node in node.input_nodes:\n",
    "            recurse(input_node, nodes_po)\n",
    "    nodes_po.append(node)"
   ]
  },
  {
   "cell_type": "markdown",
   "metadata": {},
   "source": [
    "# Examples"
   ]
  },
  {
   "cell_type": "markdown",
   "metadata": {},
   "source": [
    "## Single Operation - Addition / Matrix Multiplication"
   ]
  },
  {
   "cell_type": "code",
   "execution_count": 18,
   "metadata": {},
   "outputs": [
    {
     "name": "stdout",
     "output_type": "stream",
     "text": [
      "[[11  8]\n",
      " [13 13]]\n"
     ]
    }
   ],
   "source": [
    "Graph().defualt()\n",
    "\n",
    "x = Variable([[4,5],[9,5]])\n",
    "y = Variable([[7,3],[4,8]])\n",
    "z = Add(x, y)\n",
    "sess = Session()\n",
    "res = sess.run(z)\n",
    "print(res)"
   ]
  },
  {
   "cell_type": "code",
   "execution_count": 19,
   "metadata": {},
   "outputs": [
    {
     "name": "stdout",
     "output_type": "stream",
     "text": [
      "[[48 52]\n",
      " [83 67]]\n"
     ]
    }
   ],
   "source": [
    "Graph().defualt()\n",
    "\n",
    "x = Variable([[4,5],[9,5]])\n",
    "y = Variable([[7,3],[4,8]])\n",
    "z = MatMul(x, y)\n",
    "sess = Session()\n",
    "res = sess.run(z)\n",
    "print(res)"
   ]
  },
  {
   "cell_type": "markdown",
   "metadata": {},
   "source": [
    "# Use Placeholder"
   ]
  },
  {
   "cell_type": "code",
   "execution_count": 21,
   "metadata": {},
   "outputs": [
    {
     "name": "stdout",
     "output_type": "stream",
     "text": [
      "[[5 5]\n",
      " [6 7]]\n"
     ]
    }
   ],
   "source": [
    "Graph().defualt()\n",
    "\n",
    "x = Variable([[4,3],[2,1]])\n",
    "y =  Placeholder()\n",
    "z = Add(x, y)\n",
    "sess = Session()\n",
    "res = sess.run(z, {y:[[1,2],[4,6]]})\n",
    "print(res)"
   ]
  },
  {
   "cell_type": "markdown",
   "metadata": {},
   "source": [
    "# Multiple Operations"
   ]
  },
  {
   "cell_type": "code",
   "execution_count": 20,
   "metadata": {},
   "outputs": [
    {
     "name": "stdout",
     "output_type": "stream",
     "text": [
      "[2 3]\n"
     ]
    }
   ],
   "source": [
    "Graph().defualt()\n",
    "\n",
    "A = Variable([[1,0],[0,1]])\n",
    "B = Variable([1,1])\n",
    "X = Placeholder()\n",
    "Y = MatMul(X, A)\n",
    "Z = Add(Y, B)\n",
    "sess = Session()\n",
    "res =sess.run(Z, {X: [1, 2]})\n",
    "print(res)"
   ]
  },
  {
   "cell_type": "markdown",
   "metadata": {},
   "source": [
    "# Fin !!!"
   ]
  }
 ],
 "metadata": {
  "kernelspec": {
   "display_name": "Python 3",
   "language": "python",
   "name": "python3"
  },
  "language_info": {
   "codemirror_mode": {
    "name": "ipython",
    "version": 3
   },
   "file_extension": ".py",
   "mimetype": "text/x-python",
   "name": "python",
   "nbconvert_exporter": "python",
   "pygments_lexer": "ipython3",
   "version": "3.6.5"
  },
  "latex_envs": {
   "LaTeX_envs_menu_present": true,
   "autoclose": false,
   "autocomplete": true,
   "bibliofile": "biblio.bib",
   "cite_by": "apalike",
   "current_citInitial": 1,
   "eqLabelWithNumbers": true,
   "eqNumInitial": 1,
   "hotkeys": {
    "equation": "Ctrl-E",
    "itemize": "Ctrl-I"
   },
   "labels_anchors": false,
   "latex_user_defs": false,
   "report_style_numbering": false,
   "user_envs_cfg": false
  }
 },
 "nbformat": 4,
 "nbformat_minor": 2
}
